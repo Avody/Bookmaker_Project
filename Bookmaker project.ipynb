{
 "cells": [
  {
   "cell_type": "markdown",
   "id": "6f703ac7",
   "metadata": {},
   "source": [
    "# \"Bookmakers do not want to limit the amount of money that are being bet by bettors. They want to balance the earnings with the givings.\""
   ]
  },
  {
   "cell_type": "markdown",
   "id": "aef2d75b",
   "metadata": {},
   "source": [
    "###                                                         We want to undertand how bookmakers\n",
    "#### 1) calculate the odds between two teams (suppose there is no tie)\n",
    "#### 2) change the odds accordingly to the amount that is being played among those two choices\n",
    "#### 3) change the odds based on real-time occurancies (e.g. injuries/red cards, new coach/player, form etc.)\n"
   ]
  },
  {
   "cell_type": "markdown",
   "id": "76bda860",
   "metadata": {},
   "source": [
    "### Below i've written a class that\n",
    "#### - Calculates the odd of a team based on (total money/ bets on that team) * 1 - the margin that bookmakers set as profit\n",
    "#### - Accepts the bets\n",
    "#### - Calculates the total money won\n",
    "#### - Recalculate the odds after new bets"
   ]
  },
  {
   "cell_type": "code",
   "execution_count": 146,
   "id": "c45ad23d",
   "metadata": {},
   "outputs": [],
   "source": [
    "import random\n",
    "\n",
    "\n",
    "class DynamicBookmaker:\n",
    "    def __init__(self, initial_odds=(2.0, 2.0), margin=0.05):\n",
    "        self.margin = margin\n",
    "        self.bets = {'TeamA': 0, 'TeamB': 0}\n",
    "        self.odds = list(initial_odds)\n",
    "\n",
    "    def calculate_odds(self):\n",
    "        total_money = sum(self.bets.values())\n",
    "        if self.bets['TeamB'] == 0 or self.bets['TeamA']==0 :\n",
    "            return 0\n",
    "            \n",
    "        else:\n",
    "            odds_team_a = (total_money / (self.bets['TeamA'] )) * (1 - self.margin)\n",
    "            odds_team_b = (total_money / (self.bets['TeamB'] )) * (1 - self.margin)\n",
    "            return odds_team_a, odds_team_b\n",
    "    def take_bet(self, team, amount):\n",
    "        if team in self.bets:\n",
    "            self.bets[team] += amount\n",
    "            self.update_odds()\n",
    "\n",
    "    def settle_bets(self, winner):\n",
    "        if winner in self.bets:\n",
    "            if winner == 'TeamA':\n",
    "                team_w = 0\n",
    "            else:\n",
    "                team_w = 1\n",
    "            total_money_won = self.bets[winner] * self.odds[team_w]\n",
    "            \n",
    "            self.update_odds()\n",
    "            return total_money_won\n",
    "        else:\n",
    "            print(\"Invalid winner.\")\n",
    "            return 0\n",
    "\n",
    "    def update_odds(self):\n",
    "        self.odds = self.calculate_odds()\n",
    "\n"
   ]
  },
  {
   "cell_type": "markdown",
   "id": "7085c27e",
   "metadata": {},
   "source": [
    "#### Now, think that some experts give the initial odds, but still the odds are calculated by the amount of  money that is being bet.\n"
   ]
  },
  {
   "cell_type": "code",
   "execution_count": 147,
   "id": "f1da3fb6",
   "metadata": {},
   "outputs": [
    {
     "name": "stdout",
     "output_type": "stream",
     "text": [
      "Initial odds TeamA: 2, TeamB = 2\n",
      "Commission by house: 0.07\n"
     ]
    }
   ],
   "source": [
    "import random\n",
    "import sys\n",
    "\n",
    "class DynamicBookmakerV2:\n",
    "    def __init__(self, initial_odds, margin):\n",
    "        self.margin = margin\n",
    "        self.bets = {'TeamA': 1, 'TeamB': 1}\n",
    "        self.odds = list(initial_odds)\n",
    "        print(f'Initial odds TeamA: {initial_odds[0]}, TeamB = {initial_odds[1]}\\nCommission by house: {margin}')\n",
    "\n",
    "    def calculate_odds(self):\n",
    "        total_money = sum(self.bets.values())\n",
    "        if self.bets['TeamB'] == 0 or self.bets['TeamA']==0 :\n",
    "            return 0\n",
    "            \n",
    "        else:\n",
    "            odds_team_a = (total_money / (self.bets['TeamA'] )) * (1 - self.margin)\n",
    "            odds_team_b = (total_money / (self.bets['TeamB'] )) * (1 - self.margin)\n",
    "            if odds_team_a < 1.01:\n",
    "                odds_team_a = 1.01\n",
    "            if odds_team_b < 1.01:\n",
    "                odds_team_b = 1.01\n",
    "            if odds_team_a > 11.13:\n",
    "                odds_team_a = 11.13\n",
    "            if odds_team_b > 11.13:\n",
    "                odds_team_b = 11.13\n",
    "                \n",
    "            return odds_team_a, odds_team_b\n",
    "\n",
    "    def take_bet(self, team, amount):\n",
    "        if team in self.bets:\n",
    "            if amount > 5000:\n",
    "                \n",
    "                sys.exit(\"Max bet is 5000\")   \n",
    "            else:\n",
    "                self.bets[team] += amount\n",
    "                self.update_odds()\n",
    "\n",
    "    def settle_bets(self, winner):\n",
    "        if winner in self.bets:\n",
    "            if winner == 'TeamA':\n",
    "                team_w = 0\n",
    "            else:\n",
    "                team_w = 1\n",
    "            total_money_won = self.bets[winner] * self.odds[team_w]\n",
    "            \n",
    "            self.update_odds()\n",
    "            return total_money_won\n",
    "        else:\n",
    "            print(\"Invalid winner.\")\n",
    "            return 0\n",
    "\n",
    "    def update_odds(self):\n",
    "        self.odds = self.calculate_odds()\n",
    "\n",
    "\n",
    "# Example usage:\n",
    "bookmaker = DynamicBookmakerV2((2,2),0.07)\n"
   ]
  },
  {
   "cell_type": "markdown",
   "id": "5b6ddc25",
   "metadata": {},
   "source": [
    "#### When executing the code below we simulate a betting process. "
   ]
  },
  {
   "cell_type": "code",
   "execution_count": null,
   "id": "e98b16d7",
   "metadata": {},
   "outputs": [
    {
     "name": "stdout",
     "output_type": "stream",
     "text": [
      "You want to bet on team A or B: A\n",
      "How much money do you want to bet? 14\n",
      "Team A Odds: 1.01, Team B Odds: 11.13\n",
      "Winner: TeamB\n",
      "Total money that were bet: 16\n",
      "Total money won by players: 11.13\n",
      "Commission (0.07%) for bookmakers: 4.869999999999999\n",
      "\n",
      "\n",
      "You want to bet on team A or B: B\n",
      "How much money do you want to bet? 17\n",
      "Team A Odds: 2.05, Team B Odds: 1.70\n",
      "Winner: TeamB\n",
      "Total money that were bet: 33\n",
      "Total money won by players: 30.689999999999998\n",
      "Commission (0.07%) for bookmakers: 2.3100000000000023\n",
      "\n",
      "\n",
      "You want to bet on team A or B: A\n",
      "How much money do you want to bet? 100\n",
      "Team A Odds: 1.08, Team B Odds: 6.87\n",
      "Winner: TeamA\n",
      "Total money that were bet: 133\n",
      "Total money won by players: 123.68999999999998\n",
      "Commission (0.07%) for bookmakers: 9.310000000000016\n",
      "\n",
      "\n",
      "You want to bet on team A or B: B\n",
      "How much money do you want to bet? 103\n",
      "Team A Odds: 1.91, Team B Odds: 1.81\n",
      "Winner: TeamA\n",
      "Total money that were bet: 236\n",
      "Total money won by players: 219.48\n",
      "Commission (0.07%) for bookmakers: 16.52000000000001\n",
      "\n",
      "\n"
     ]
    }
   ],
   "source": [
    "# Simulation: Taking bets\n",
    "while True:\n",
    "    team = input('You want to bet on team A or B: ')\n",
    "    money = input('How much money do you want to bet? ')\n",
    "    bookmaker.take_bet(f'Team{team}', int(money))\n",
    "\n",
    "\n",
    "    # Simulation: Retrieving and printing updated odds\n",
    "    odds_team_a, odds_team_b = bookmaker.odds\n",
    "    print(f\"Team A Odds: {odds_team_a:.2f}, Team B Odds: {odds_team_b:.2f}\")\n",
    "\n",
    "    # Simulation: Settling bets\n",
    "    winner = random.choice(['TeamA', 'TeamB'])\n",
    "    print(f\"Winner: {winner}\")\n",
    "    total_money_won = bookmaker.settle_bets(winner)\n",
    "\n",
    "    print(f\"Total money that were bet: {sum(bookmaker.bets.values())}\")\n",
    "    print(f\"Total money won by players: {total_money_won}\")\n",
    "    print(f\"Commission ({bookmaker.margin}%) for bookmakers: {sum(bookmaker.bets.values())-total_money_won}\\n\\n\")"
   ]
  },
  {
   "cell_type": "markdown",
   "id": "cef54b71",
   "metadata": {},
   "source": []
  }
 ],
 "metadata": {
  "kernelspec": {
   "display_name": "Python 3 (ipykernel)",
   "language": "python",
   "name": "python3"
  },
  "language_info": {
   "codemirror_mode": {
    "name": "ipython",
    "version": 3
   },
   "file_extension": ".py",
   "mimetype": "text/x-python",
   "name": "python",
   "nbconvert_exporter": "python",
   "pygments_lexer": "ipython3",
   "version": "3.9.12"
  }
 },
 "nbformat": 4,
 "nbformat_minor": 5
}
