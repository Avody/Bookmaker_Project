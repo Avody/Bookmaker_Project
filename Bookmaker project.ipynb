{
 "cells": [
  {
   "cell_type": "markdown",
   "id": "8f26e81b",
   "metadata": {},
   "source": [
    "# \"Bookmakers do not want to limit the amount of money that are being bet by bettors. They want to balance the earnings with the givings.\""
   ]
  },
  {
   "cell_type": "markdown",
   "id": "a49dcd0e",
   "metadata": {},
   "source": [
    "###                                                         We want to undertand how bookmakers\n",
    "#### 1) calculate the odds between two teams (suppose there is no tie)\n",
    "#### 2) change the odds accordingly to the amount that is being played among those two choices\n",
    "#### 3) change the odds based on real-time occurancies (e.g. injuries/red cards, new coach/player, form etc.)\n"
   ]
  },
  {
   "cell_type": "markdown",
   "id": "4711d326",
   "metadata": {},
   "source": [
    "### Below i've written a code that calculates the odds for the two teams to win accordingly to the bets that have been placed.\n"
   ]
  },
  {
   "cell_type": "code",
   "execution_count": 92,
   "id": "c45ad23d",
   "metadata": {},
   "outputs": [
    {
     "name": "stdout",
     "output_type": "stream",
     "text": [
      "Team A Odds: 1.90, Team B Odds: 1.90\n",
      "Winner: TeamB\n",
      "Total money that were bet: 200\n",
      "Total money won by players: 190.0\n",
      "Commission (0.05%) for bookmakers: 10.0\n"
     ]
    }
   ],
   "source": [
    "import random\n",
    "\n",
    "\n",
    "class DynamicBookmaker:\n",
    "    def __init__(self, initial_odds=(2.0, 2.0), margin=0.05):\n",
    "        self.margin = margin\n",
    "        self.bets = {'TeamA': 0, 'TeamB': 0}\n",
    "        self.odds = list(initial_odds)\n",
    "\n",
    "    def calculate_odds(self):\n",
    "        total_money = sum(self.bets.values())\n",
    "        if self.bets['TeamB'] == 0 or self.bets['TeamA']==0 :\n",
    "            return 0\n",
    "            \n",
    "        else:\n",
    "            odds_team_a = (total_money / (self.bets['TeamA'] )) * (1 - self.margin)\n",
    "            odds_team_b = (total_money / (self.bets['TeamB'] )) * (1 - self.margin)\n",
    "            return odds_team_a, odds_team_b\n",
    "    def take_bet(self, team, amount):\n",
    "        if team in self.bets:\n",
    "            self.bets[team] += amount\n",
    "            self.update_odds()\n",
    "\n",
    "    def settle_bets(self, winner):\n",
    "        if winner in self.bets:\n",
    "            if winner == 'TeamA':\n",
    "                team_w = 0\n",
    "            else:\n",
    "                team_w = 1\n",
    "            total_money_won = self.bets[winner] * self.odds[team_w]\n",
    "            \n",
    "            self.update_odds()\n",
    "            return total_money_won\n",
    "        else:\n",
    "            print(\"Invalid winner.\")\n",
    "            return 0\n",
    "\n",
    "    def update_odds(self):\n",
    "        self.odds = self.calculate_odds()\n",
    "\n",
    "\n",
    "# Example usage:\n",
    "bookmaker = DynamicBookmaker()\n",
    "\n",
    "# Simulation: Taking bets\n",
    "bookmaker.take_bet('TeamA', 100)\n",
    "bookmaker.take_bet('TeamB', 100)\n",
    "\n",
    "# Simulation: Retrieving and printing updated odds\n",
    "odds_team_a, odds_team_b = bookmaker.odds\n",
    "print(f\"Team A Odds: {odds_team_a:.2f}, Team B Odds: {odds_team_b:.2f}\")\n",
    "\n",
    "# Simulation: Settling bets\n",
    "winner = random.choice(['TeamA', 'TeamB'])\n",
    "print(f\"Winner: {winner}\")\n",
    "total_money_won = bookmaker.settle_bets(winner)\n",
    "\n",
    "print(f\"Total money that were bet: {sum(bookmaker.bets.values())}\")\n",
    "print(f\"Total money won by players: {total_money_won}\")\n",
    "print(f\"Commission ({bookmaker.margin}%) for bookmakers: {sum(bookmaker.bets.values())-total_money_won}\")\n",
    "\n",
    "\n"
   ]
  },
  {
   "cell_type": "markdown",
   "id": "f685dd4e",
   "metadata": {},
   "source": [
    "#### Now, think that some experts give the initial odds, but still the odds are calculated by the amount of  money that is being bet.\n"
   ]
  },
  {
   "cell_type": "code",
   "execution_count": 87,
   "id": "36c0ee49",
   "metadata": {},
   "outputs": [
    {
     "name": "stdout",
     "output_type": "stream",
     "text": [
      "Initial odds TeamA: 2, TeamB = 2\n",
      "Team A Odds: 11.13, Team B Odds: 1.01\n",
      "Winner: TeamA\n",
      "Total money that were bet: 5456\n",
      "Total money won by players: 5074.08\n",
      "Commission (0.07%) for bookmakers: 381.9200000000001\n"
     ]
    }
   ],
   "source": [
    "import random\n",
    "import sys\n",
    "\n",
    "class DynamicBookmakerV2:\n",
    "    def __init__(self, initial_odds, margin):\n",
    "        self.margin = margin\n",
    "        self.bets = {'TeamA': 0, 'TeamB': 0}\n",
    "        self.odds = list(initial_odds)\n",
    "        print(f'Initial odds TeamA: {initial_odds[0]}, TeamB = {initial_odds[1]}')\n",
    "\n",
    "    def calculate_odds(self):\n",
    "        total_money = sum(self.bets.values())\n",
    "        if self.bets['TeamB'] == 0 or self.bets['TeamA']==0 :\n",
    "            return 0\n",
    "            \n",
    "        else:\n",
    "            odds_team_a = (total_money / (self.bets['TeamA'] )) * (1 - self.margin)\n",
    "            odds_team_b = (total_money / (self.bets['TeamB'] )) * (1 - self.margin)\n",
    "            if odds_team_a < 1.01:\n",
    "                odds_team_a = 1.01\n",
    "            if odds_team_b < 1.01:\n",
    "                odds_team_b = 1.01\n",
    "            if odds_team_a > 11.13:\n",
    "                odds_team_a = 11.13\n",
    "            if odds_team_b > 11.13:\n",
    "                odds_team_b = 11.13\n",
    "                \n",
    "            return odds_team_a, odds_team_b\n",
    "\n",
    "    def take_bet(self, team, amount):\n",
    "        if team in self.bets:\n",
    "            if amount > 5000:\n",
    "                \n",
    "                sys.exit(\"Max bet is 5000\")   \n",
    "            else:\n",
    "                self.bets[team] += amount\n",
    "                self.update_odds()\n",
    "\n",
    "    def settle_bets(self, winner):\n",
    "        if winner in self.bets:\n",
    "            if winner == 'TeamA':\n",
    "                team_w = 0\n",
    "            else:\n",
    "                team_w = 1\n",
    "            total_money_won = self.bets[winner] * self.odds[team_w]\n",
    "            \n",
    "            self.update_odds()\n",
    "            return total_money_won\n",
    "        else:\n",
    "            print(\"Invalid winner.\")\n",
    "            return 0\n",
    "\n",
    "    def update_odds(self):\n",
    "        self.odds = self.calculate_odds()\n",
    "\n",
    "\n",
    "# Example usage:\n",
    "bookmaker = DynamicBookmakerV2((2,2),0.07)\n",
    "\n",
    "# Simulation: Taking bets\n",
    "bookmaker.take_bet('TeamA', 456)\n",
    "bookmaker.take_bet('TeamB', 5000)\n",
    "\n",
    "# Simulation: Retrieving and printing updated odds\n",
    "odds_team_a, odds_team_b = bookmaker.odds\n",
    "print(f\"Team A Odds: {odds_team_a:.2f}, Team B Odds: {odds_team_b:.2f}\")\n",
    "\n",
    "# Simulation: Settling bets\n",
    "winner = random.choice(['TeamA', 'TeamB'])\n",
    "print(f\"Winner: {winner}\")\n",
    "total_money_won = bookmaker.settle_bets(winner)\n",
    "\n",
    "print(f\"Total money that were bet: {sum(bookmaker.bets.values())}\")\n",
    "print(f\"Total money won by players: {total_money_won}\")\n",
    "print(f\"Commission ({bookmaker.margin}%) for bookmakers: {sum(bookmaker.bets.values())-total_money_won}\")\n",
    "\n",
    "\n"
   ]
  },
  {
   "cell_type": "markdown",
   "id": "43854b33",
   "metadata": {},
   "source": [
    "#### We now want to eliminate the excessive and rapid change in the odds due to a big amount of money that has been bet on a side. Stategies that cope with this problem are implying a max bet, human intervation, setting limits, algorithmic safeguards."
   ]
  },
  {
   "cell_type": "code",
   "execution_count": 88,
   "id": "a3357789",
   "metadata": {},
   "outputs": [
    {
     "data": {
      "text/plain": [
       "1.0465892404218395"
      ]
     },
     "execution_count": 88,
     "metadata": {},
     "output_type": "execute_result"
    }
   ],
   "source": [
    "1/2.27 + 1/1.65\n",
    "\n"
   ]
  },
  {
   "cell_type": "code",
   "execution_count": null,
   "id": "6f1f78c2",
   "metadata": {},
   "outputs": [],
   "source": []
  },
  {
   "cell_type": "markdown",
   "id": "2f844fe5",
   "metadata": {},
   "source": [
    "### However we can understand that the initial bets can't be 0, if noone has bet yet"
   ]
  },
  {
   "cell_type": "code",
   "execution_count": 144,
   "id": "e1a47448",
   "metadata": {},
   "outputs": [
    {
     "name": "stdout",
     "output_type": "stream",
     "text": [
      "Current Odds - Team A: 2.14, Team B: 1.54\n",
      "Current Odds - Team A: 1.94, Team B: 1.54\n",
      "Current Odds - Team A: 1.79, Team B: 1.51\n",
      "Current Odds - Team A: 1.59, Team B: 1.55\n",
      "Current Odds - Team A: 1.67, Team B: 1.33\n",
      "Current Odds - Team A: 1.76, Team B: 1.15\n"
     ]
    }
   ],
   "source": [
    "import random\n",
    "\n",
    "class BookmakerSimulation:\n",
    "    def __init__(self, initial_odds=(2.0, 2.0), margin=0.05):\n",
    "        self.margin = margin\n",
    "        self.odds = list(initial_odds)\n",
    "        self.total_money = {'TeamA': 0, 'TeamB': 0}\n",
    "\n",
    "    def calculate_implied_probabilities(self):\n",
    "        total_money = sum(self.total_money.values())\n",
    "        implied_prob_team_a = (1 / self.odds[0]) * (1 + self.margin)\n",
    "        implied_prob_team_b = (1 / self.odds[1]) * (1 + self.margin)\n",
    "        return implied_prob_team_a, implied_prob_team_b\n",
    "\n",
    "    def adjust_odds(self):\n",
    "        implied_prob_team_a, implied_prob_team_b = self.calculate_implied_probabilities()\n",
    "\n",
    "        # Simulating a basic adjustment algorithm (you can replace this with a more sophisticated one)\n",
    "        adjustment_factor = random.uniform(0.9, 1.1)\n",
    "        adjusted_prob_team_a = implied_prob_team_a * adjustment_factor\n",
    "        adjusted_prob_team_b = implied_prob_team_b * (1 / adjustment_factor)\n",
    "\n",
    "        # Recalculate odds based on adjusted probabilities\n",
    "        self.odds[0] = 1 / adjusted_prob_team_a\n",
    "        self.odds[1] = 1 / adjusted_prob_team_b\n",
    "\n",
    "    def take_bet(self, team, amount):\n",
    "        if team in self.total_money:\n",
    "            self.total_money[team] += amount\n",
    "            self.adjust_odds()\n",
    "\n",
    "    def display_odds(self):\n",
    "        print(f\"Current Odds - Team A: {self.odds[0]:.2f}, Team B: {self.odds[1]:.2f}\")\n",
    "\n",
    "# Example usage:\n",
    "bookmaker = BookmakerSimulation()\n",
    "\n",
    "# Simulating bets\n",
    "bookmaker.take_bet('TeamA', 10000)\n",
    "bookmaker.take_bet('TeamB', 8000)\n",
    "\n",
    "# Displaying initial odds\n",
    "bookmaker.display_odds()\n",
    "\n",
    "# Simulating more bets and dynamic odds adjustment\n",
    "for _ in range(5):\n",
    "    team = random.choice(['TeamA', 'TeamB'])\n",
    "    amount = random.randint(1000, 5000)\n",
    "    bookmaker.take_bet(team, amount)\n",
    "\n",
    "    # Displaying updated odds after each bet\n",
    "    bookmaker.display_odds()\n"
   ]
  }
 ],
 "metadata": {
  "kernelspec": {
   "display_name": "Python 3 (ipykernel)",
   "language": "python",
   "name": "python3"
  },
  "language_info": {
   "codemirror_mode": {
    "name": "ipython",
    "version": 3
   },
   "file_extension": ".py",
   "mimetype": "text/x-python",
   "name": "python",
   "nbconvert_exporter": "python",
   "pygments_lexer": "ipython3",
   "version": "3.9.12"
  }
 },
 "nbformat": 4,
 "nbformat_minor": 5
}
