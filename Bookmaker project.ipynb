{
 "cells": [
  {
   "cell_type": "markdown",
   "id": "69876ea1",
   "metadata": {},
   "source": [
    "# \"Bookmakers do not want to limit the amount of money that is being bet. They want to balance the earnings with the givings.\""
   ]
  },
  {
   "cell_type": "markdown",
   "id": "f35c3bb6",
   "metadata": {},
   "source": [
    "###                                                         We want to undertand how bookmakers\n",
    "#### 1) calculate the odds between two teams (suppose there is no tie)\n",
    "#### 2) change the odds accordingly to the amount that is being played among those two choices\n",
    "#### 3) change the odds based on real-time occurancies (e.g. injuries/red cards, new coach/player, form etc.)\n"
   ]
  },
  {
   "cell_type": "markdown",
   "id": "345d66f9",
   "metadata": {},
   "source": [
    "### Below i've written a class that\n",
    "#### - Calculates the odd of a team based on (total money/ bets on that team) * 1 - the margin that bookmakers set as profit\n",
    "#### - Accepts the bets\n",
    "#### - Calculates the total money won\n",
    "#### - Recalculate the odds after new bets"
   ]
  },
  {
   "cell_type": "code",
   "execution_count": 146,
   "id": "c45ad23d",
   "metadata": {},
   "outputs": [],
   "source": [
    "import random\n",
    "\n",
    "\n",
    "class DynamicBookmaker:\n",
    "    def __init__(self, initial_odds=(2.0, 2.0), margin=0.05):\n",
    "        self.margin = margin\n",
    "        self.bets = {'TeamA': 0, 'TeamB': 0}\n",
    "        self.odds = list(initial_odds)\n",
    "\n",
    "    def calculate_odds(self):\n",
    "        total_money = sum(self.bets.values())\n",
    "        if self.bets['TeamB'] == 0 or self.bets['TeamA']==0 :\n",
    "            return 0\n",
    "            \n",
    "        else:\n",
    "            odds_team_a = (total_money / (self.bets['TeamA'] )) * (1 - self.margin)\n",
    "            odds_team_b = (total_money / (self.bets['TeamB'] )) * (1 - self.margin)\n",
    "            return odds_team_a, odds_team_b\n",
    "    def take_bet(self, team, amount):\n",
    "        if team in self.bets:\n",
    "            self.bets[team] += amount\n",
    "            self.update_odds()\n",
    "\n",
    "    def settle_bets(self, winner):\n",
    "        if winner in self.bets:\n",
    "            if winner == 'TeamA':\n",
    "                team_w = 0\n",
    "            else:\n",
    "                team_w = 1\n",
    "            total_money_won = self.bets[winner] * self.odds[team_w]\n",
    "            \n",
    "            self.update_odds()\n",
    "            return total_money_won\n",
    "        else:\n",
    "            print(\"Invalid winner.\")\n",
    "            return 0\n",
    "\n",
    "    def update_odds(self):\n",
    "        self.odds = self.calculate_odds()\n",
    "\n"
   ]
  },
  {
   "cell_type": "markdown",
   "id": "0e2c5ba2",
   "metadata": {},
   "source": [
    "#### Now, think that some experts give the initial odds, but still the odds are calculated by the amount of  money that is being bet.\n"
   ]
  },
  {
   "cell_type": "code",
   "execution_count": 147,
   "id": "8376bc66",
   "metadata": {},
   "outputs": [
    {
     "name": "stdout",
     "output_type": "stream",
     "text": [
      "Initial odds TeamA: 2, TeamB = 2\n",
      "Commission by house: 0.07\n"
     ]
    }
   ],
   "source": [
    "import random\n",
    "import sys\n",
    "\n",
    "class DynamicBookmakerV2:\n",
    "    def __init__(self, initial_odds, margin):\n",
    "        self.margin = margin\n",
    "        self.bets = {'TeamA': 1, 'TeamB': 1}\n",
    "        self.odds = list(initial_odds)\n",
    "        print(f'Initial odds TeamA: {initial_odds[0]}, TeamB = {initial_odds[1]}\\nCommission by house: {margin}')\n",
    "\n",
    "    def calculate_odds(self):\n",
    "        total_money = sum(self.bets.values())\n",
    "        if self.bets['TeamB'] == 0 or self.bets['TeamA']==0 :\n",
    "            return 0\n",
    "            \n",
    "        else:\n",
    "            odds_team_a = (total_money / (self.bets['TeamA'] )) * (1 - self.margin)\n",
    "            odds_team_b = (total_money / (self.bets['TeamB'] )) * (1 - self.margin)\n",
    "            if odds_team_a < 1.01:\n",
    "                odds_team_a = 1.01\n",
    "            if odds_team_b < 1.01:\n",
    "                odds_team_b = 1.01\n",
    "            if odds_team_a > 11.13:\n",
    "                odds_team_a = 11.13\n",
    "            if odds_team_b > 11.13:\n",
    "                odds_team_b = 11.13\n",
    "                \n",
    "            return odds_team_a, odds_team_b\n",
    "\n",
    "    def take_bet(self, team, amount):\n",
    "        if team in self.bets:\n",
    "            if amount > 5000:\n",
    "                \n",
    "                sys.exit(\"Max bet is 5000\")   \n",
    "            else:\n",
    "                self.bets[team] += amount\n",
    "                self.update_odds()\n",
    "\n",
    "    def settle_bets(self, winner):\n",
    "        if winner in self.bets:\n",
    "            if winner == 'TeamA':\n",
    "                team_w = 0\n",
    "            else:\n",
    "                team_w = 1\n",
    "            total_money_won = self.bets[winner] * self.odds[team_w]\n",
    "            \n",
    "            self.update_odds()\n",
    "            return total_money_won\n",
    "        else:\n",
    "            print(\"Invalid winner.\")\n",
    "            return 0\n",
    "\n",
    "    def update_odds(self):\n",
    "        self.odds = self.calculate_odds()\n",
    "\n",
    "\n",
    "# Example usage:\n",
    "bookmaker = DynamicBookmakerV2((2,2),0.07)\n"
   ]
  },
  {
   "cell_type": "markdown",
   "id": "76784bb6",
   "metadata": {},
   "source": [
    "#### When executing the code below we simulate a betting process. "
   ]
  },
  {
   "cell_type": "code",
   "execution_count": 148,
   "id": "4b5d83e7",
   "metadata": {},
   "outputs": [
    {
     "name": "stdout",
     "output_type": "stream",
     "text": [
      "You want to bet on team A or B: A\n",
      "How much money do you want to bet? 14\n",
      "Team A Odds: 1.01, Team B Odds: 11.13\n",
      "Winner: TeamB\n",
      "Total money that were bet: 16\n",
      "Total money won by players: 11.13\n",
      "Commission (0.07%) for bookmakers: 4.869999999999999\n",
      "\n",
      "\n",
      "You want to bet on team A or B: B\n",
      "How much money do you want to bet? 17\n",
      "Team A Odds: 2.05, Team B Odds: 1.70\n",
      "Winner: TeamB\n",
      "Total money that were bet: 33\n",
      "Total money won by players: 30.689999999999998\n",
      "Commission (0.07%) for bookmakers: 2.3100000000000023\n",
      "\n",
      "\n",
      "You want to bet on team A or B: A\n",
      "How much money do you want to bet? 100\n",
      "Team A Odds: 1.08, Team B Odds: 6.87\n",
      "Winner: TeamA\n",
      "Total money that were bet: 133\n",
      "Total money won by players: 123.68999999999998\n",
      "Commission (0.07%) for bookmakers: 9.310000000000016\n",
      "\n",
      "\n",
      "You want to bet on team A or B: B\n",
      "How much money do you want to bet? 103\n",
      "Team A Odds: 1.91, Team B Odds: 1.81\n",
      "Winner: TeamA\n",
      "Total money that were bet: 236\n",
      "Total money won by players: 219.48\n",
      "Commission (0.07%) for bookmakers: 16.52000000000001\n",
      "\n",
      "\n"
     ]
    },
    {
     "ename": "KeyboardInterrupt",
     "evalue": "Interrupted by user",
     "output_type": "error",
     "traceback": [
      "\u001b[1;31m---------------------------------------------------------------------------\u001b[0m",
      "\u001b[1;31mKeyboardInterrupt\u001b[0m                         Traceback (most recent call last)",
      "Input \u001b[1;32mIn [148]\u001b[0m, in \u001b[0;36m<cell line: 3>\u001b[1;34m()\u001b[0m\n\u001b[0;32m      1\u001b[0m \u001b[38;5;66;03m# Simulation: Taking bets\u001b[39;00m\n\u001b[0;32m      2\u001b[0m \u001b[38;5;28;01mwhile\u001b[39;00m \u001b[38;5;28;01mTrue\u001b[39;00m:\n\u001b[1;32m----> 3\u001b[0m     team \u001b[38;5;241m=\u001b[39m \u001b[38;5;28;43minput\u001b[39;49m\u001b[43m(\u001b[49m\u001b[38;5;124;43m'\u001b[39;49m\u001b[38;5;124;43mYou want to bet on team A or B: \u001b[39;49m\u001b[38;5;124;43m'\u001b[39;49m\u001b[43m)\u001b[49m\n\u001b[0;32m      4\u001b[0m     money \u001b[38;5;241m=\u001b[39m \u001b[38;5;28minput\u001b[39m(\u001b[38;5;124m'\u001b[39m\u001b[38;5;124mHow much money do you want to bet? \u001b[39m\u001b[38;5;124m'\u001b[39m)\n\u001b[0;32m      5\u001b[0m     bookmaker\u001b[38;5;241m.\u001b[39mtake_bet(\u001b[38;5;124mf\u001b[39m\u001b[38;5;124m'\u001b[39m\u001b[38;5;124mTeam\u001b[39m\u001b[38;5;132;01m{\u001b[39;00mteam\u001b[38;5;132;01m}\u001b[39;00m\u001b[38;5;124m'\u001b[39m, \u001b[38;5;28mint\u001b[39m(money))\n",
      "File \u001b[1;32m~\\anaconda3\\lib\\site-packages\\ipykernel\\kernelbase.py:1075\u001b[0m, in \u001b[0;36mKernel.raw_input\u001b[1;34m(self, prompt)\u001b[0m\n\u001b[0;32m   1071\u001b[0m \u001b[38;5;28;01mif\u001b[39;00m \u001b[38;5;129;01mnot\u001b[39;00m \u001b[38;5;28mself\u001b[39m\u001b[38;5;241m.\u001b[39m_allow_stdin:\n\u001b[0;32m   1072\u001b[0m     \u001b[38;5;28;01mraise\u001b[39;00m StdinNotImplementedError(\n\u001b[0;32m   1073\u001b[0m         \u001b[38;5;124m\"\u001b[39m\u001b[38;5;124mraw_input was called, but this frontend does not support input requests.\u001b[39m\u001b[38;5;124m\"\u001b[39m\n\u001b[0;32m   1074\u001b[0m     )\n\u001b[1;32m-> 1075\u001b[0m \u001b[38;5;28;01mreturn\u001b[39;00m \u001b[38;5;28;43mself\u001b[39;49m\u001b[38;5;241;43m.\u001b[39;49m\u001b[43m_input_request\u001b[49m\u001b[43m(\u001b[49m\n\u001b[0;32m   1076\u001b[0m \u001b[43m    \u001b[49m\u001b[38;5;28;43mstr\u001b[39;49m\u001b[43m(\u001b[49m\u001b[43mprompt\u001b[49m\u001b[43m)\u001b[49m\u001b[43m,\u001b[49m\n\u001b[0;32m   1077\u001b[0m \u001b[43m    \u001b[49m\u001b[38;5;28;43mself\u001b[39;49m\u001b[38;5;241;43m.\u001b[39;49m\u001b[43m_parent_ident\u001b[49m\u001b[43m[\u001b[49m\u001b[38;5;124;43m\"\u001b[39;49m\u001b[38;5;124;43mshell\u001b[39;49m\u001b[38;5;124;43m\"\u001b[39;49m\u001b[43m]\u001b[49m\u001b[43m,\u001b[49m\n\u001b[0;32m   1078\u001b[0m \u001b[43m    \u001b[49m\u001b[38;5;28;43mself\u001b[39;49m\u001b[38;5;241;43m.\u001b[39;49m\u001b[43mget_parent\u001b[49m\u001b[43m(\u001b[49m\u001b[38;5;124;43m\"\u001b[39;49m\u001b[38;5;124;43mshell\u001b[39;49m\u001b[38;5;124;43m\"\u001b[39;49m\u001b[43m)\u001b[49m\u001b[43m,\u001b[49m\n\u001b[0;32m   1079\u001b[0m \u001b[43m    \u001b[49m\u001b[43mpassword\u001b[49m\u001b[38;5;241;43m=\u001b[39;49m\u001b[38;5;28;43;01mFalse\u001b[39;49;00m\u001b[43m,\u001b[49m\n\u001b[0;32m   1080\u001b[0m \u001b[43m\u001b[49m\u001b[43m)\u001b[49m\n",
      "File \u001b[1;32m~\\anaconda3\\lib\\site-packages\\ipykernel\\kernelbase.py:1120\u001b[0m, in \u001b[0;36mKernel._input_request\u001b[1;34m(self, prompt, ident, parent, password)\u001b[0m\n\u001b[0;32m   1117\u001b[0m             \u001b[38;5;28;01mbreak\u001b[39;00m\n\u001b[0;32m   1118\u001b[0m \u001b[38;5;28;01mexcept\u001b[39;00m \u001b[38;5;167;01mKeyboardInterrupt\u001b[39;00m:\n\u001b[0;32m   1119\u001b[0m     \u001b[38;5;66;03m# re-raise KeyboardInterrupt, to truncate traceback\u001b[39;00m\n\u001b[1;32m-> 1120\u001b[0m     \u001b[38;5;28;01mraise\u001b[39;00m \u001b[38;5;167;01mKeyboardInterrupt\u001b[39;00m(\u001b[38;5;124m\"\u001b[39m\u001b[38;5;124mInterrupted by user\u001b[39m\u001b[38;5;124m\"\u001b[39m) \u001b[38;5;28;01mfrom\u001b[39;00m \u001b[38;5;28mNone\u001b[39m\n\u001b[0;32m   1121\u001b[0m \u001b[38;5;28;01mexcept\u001b[39;00m \u001b[38;5;167;01mException\u001b[39;00m:\n\u001b[0;32m   1122\u001b[0m     \u001b[38;5;28mself\u001b[39m\u001b[38;5;241m.\u001b[39mlog\u001b[38;5;241m.\u001b[39mwarning(\u001b[38;5;124m\"\u001b[39m\u001b[38;5;124mInvalid Message:\u001b[39m\u001b[38;5;124m\"\u001b[39m, exc_info\u001b[38;5;241m=\u001b[39m\u001b[38;5;28;01mTrue\u001b[39;00m)\n",
      "\u001b[1;31mKeyboardInterrupt\u001b[0m: Interrupted by user"
     ]
    }
   ],
   "source": [
    "# Simulation: Taking bets\n",
    "while True:\n",
    "    team = input('You want to bet on team A or B: ')\n",
    "    money = input('How much money do you want to bet? ')\n",
    "    bookmaker.take_bet(f'Team{team}', int(money))\n",
    "\n",
    "\n",
    "    # Simulation: Retrieving and printing updated odds\n",
    "    odds_team_a, odds_team_b = bookmaker.odds\n",
    "    print(f\"Team A Odds: {odds_team_a:.2f}, Team B Odds: {odds_team_b:.2f}\")\n",
    "\n",
    "    # Simulation: Settling bets\n",
    "    winner = random.choice(['TeamA', 'TeamB'])\n",
    "    print(f\"Winner: {winner}\")\n",
    "    total_money_won = bookmaker.settle_bets(winner)\n",
    "\n",
    "    print(f\"Total money that were bet: {sum(bookmaker.bets.values())}\")\n",
    "    print(f\"Total money won by players: {total_money_won}\")\n",
    "    print(f\"Commission ({bookmaker.margin}%) for bookmakers: {sum(bookmaker.bets.values())-total_money_won}\\n\\n\")"
   ]
  },
  {
   "cell_type": "markdown",
   "id": "884dd6c2",
   "metadata": {},
   "source": []
  }
 ],
 "metadata": {
  "kernelspec": {
   "display_name": "Python 3 (ipykernel)",
   "language": "python",
   "name": "python3"
  },
  "language_info": {
   "codemirror_mode": {
    "name": "ipython",
    "version": 3
   },
   "file_extension": ".py",
   "mimetype": "text/x-python",
   "name": "python",
   "nbconvert_exporter": "python",
   "pygments_lexer": "ipython3",
   "version": "3.9.12"
  }
 },
 "nbformat": 4,
 "nbformat_minor": 5
}
